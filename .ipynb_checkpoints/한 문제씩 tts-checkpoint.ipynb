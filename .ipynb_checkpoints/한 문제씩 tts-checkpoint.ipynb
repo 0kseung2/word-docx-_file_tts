{
 "cells": [
  {
   "cell_type": "code",
   "execution_count": null,
   "id": "61d6ada7",
   "metadata": {},
   "outputs": [],
   "source": [
    "from docx import Document\n",
    "from gtts import gTTS\n",
    "import os\n",
    "\n",
    "# Word 파일 경로\n",
    "input_docx_file = '중간고사 예상문제.docx'\n",
    "\n",
    "# Word 파일 읽기\n",
    "def read_docx(file_path):\n",
    "    doc = Document(file_path)\n",
    "    text = \"\"\n",
    "    for paragraph in doc.paragraphs:\n",
    "        text += paragraph.text + \" \"\n",
    "    return text\n",
    "\n",
    "# 텍스트를 MP3로 변환하여 저장\n",
    "def text_to_mp3(text, output_mp3_file):\n",
    "    tts = gTTS(text, lang='ko')  # 'ko'는 한국어 언어 코드입니다. 필요에 따라 변경하세요.\n",
    "    tts.save(output_mp3_file)\n",
    "\n",
    "# MP3 파일 경로\n",
    "output_mp3_file = 'output.mp3'\n",
    "\n",
    "# Word 파일 읽기\n",
    "text = read_docx(input_docx_file)\n",
    "\n",
    "# 텍스트를 MP3로 변환하여 저장\n",
    "\n",
    "\n",
    "for i in range(1, 23):\n",
    "    output_mp3_file = f'{i}.mp3'\n",
    "    input_docx_file = f'{i}.docx'\n",
    "    text = read_docx(input_docx_file)\n",
    "    text_to_mp3(text, output_mp3_file)\n",
    "\n",
    "print(f'{input_docx_file} 파일을 읽어 {output_mp3_file} 파일로 저장했습니다.')\n"
   ]
  }
 ],
 "metadata": {
  "kernelspec": {
   "display_name": "Python 3 (ipykernel)",
   "language": "python",
   "name": "python3"
  },
  "language_info": {
   "codemirror_mode": {
    "name": "ipython",
    "version": 3
   },
   "file_extension": ".py",
   "mimetype": "text/x-python",
   "name": "python",
   "nbconvert_exporter": "python",
   "pygments_lexer": "ipython3",
   "version": "3.9.17"
  }
 },
 "nbformat": 4,
 "nbformat_minor": 5
}
