{
 "cells": [
  {
   "cell_type": "code",
   "execution_count": 2,
   "id": "7bc631da",
   "metadata": {},
   "outputs": [
    {
     "name": "stdout",
     "output_type": "stream",
     "text": [
      "Collecting python-docx\n",
      "  Obtaining dependency information for python-docx from https://files.pythonhosted.org/packages/ea/82/ddb60b44c6e39a74bd406fab7d7c102ce7dfca2dff9515dfd6edc7d25f1e/python_docx-1.0.1-py3-none-any.whl.metadata\n",
      "  Downloading python_docx-1.0.1-py3-none-any.whl.metadata (2.0 kB)\n",
      "Requirement already satisfied: lxml>=3.1.0 in c:\\users\\user\\anaconda3\\lib\\site-packages (from python-docx) (4.9.2)\n",
      "Requirement already satisfied: typing-extensions in c:\\users\\user\\anaconda3\\lib\\site-packages (from python-docx) (4.7.1)\n",
      "Downloading python_docx-1.0.1-py3-none-any.whl (237 kB)\n",
      "   ---------------------------------------- 0.0/237.4 kB ? eta -:--:--\n",
      "   --------------------------------------- 237.4/237.4 kB 14.2 MB/s eta 0:00:00\n",
      "Installing collected packages: python-docx\n",
      "Successfully installed python-docx-1.0.1\n",
      "Collecting gTTS\n",
      "  Obtaining dependency information for gTTS from https://files.pythonhosted.org/packages/a7/ef/190f64a4edeb13165e3c598a08f06a2ae80cdae0aa208c96c20efdb7ad4b/gTTS-2.4.0-py3-none-any.whl.metadata\n",
      "  Downloading gTTS-2.4.0-py3-none-any.whl.metadata (4.1 kB)\n",
      "Requirement already satisfied: requests<3,>=2.27 in c:\\users\\user\\anaconda3\\lib\\site-packages (from gTTS) (2.31.0)\n",
      "Requirement already satisfied: click<8.2,>=7.1 in c:\\users\\user\\anaconda3\\lib\\site-packages (from gTTS) (8.0.4)\n",
      "Requirement already satisfied: colorama in c:\\users\\user\\anaconda3\\lib\\site-packages (from click<8.2,>=7.1->gTTS) (0.4.6)\n",
      "Requirement already satisfied: charset-normalizer<4,>=2 in c:\\users\\user\\anaconda3\\lib\\site-packages (from requests<3,>=2.27->gTTS) (2.0.4)\n",
      "Requirement already satisfied: idna<4,>=2.5 in c:\\users\\user\\anaconda3\\lib\\site-packages (from requests<3,>=2.27->gTTS) (3.4)\n",
      "Requirement already satisfied: urllib3<3,>=1.21.1 in c:\\users\\user\\anaconda3\\lib\\site-packages (from requests<3,>=2.27->gTTS) (1.26.16)\n",
      "Requirement already satisfied: certifi>=2017.4.17 in c:\\users\\user\\anaconda3\\lib\\site-packages (from requests<3,>=2.27->gTTS) (2023.7.22)\n",
      "Downloading gTTS-2.4.0-py3-none-any.whl (29 kB)\n",
      "Installing collected packages: gTTS\n",
      "Successfully installed gTTS-2.4.0\n"
     ]
    }
   ],
   "source": [
    "!pip install python-docx\n",
    "!pip install gTTS\n"
   ]
  },
  {
   "cell_type": "code",
   "execution_count": 1,
   "id": "6354c2f2",
   "metadata": {},
   "outputs": [
    {
     "name": "stdout",
     "output_type": "stream",
     "text": [
      "중간고사 예상문제.docx 파일을 읽어 output_final.mp3 파일로 저장했습니다.\n"
     ]
    }
   ],
   "source": [
    "from docx import Document\n",
    "from gtts import gTTS\n",
    "import os\n",
    "\n",
    "# Word 파일 경로\n",
    "input_docx_file = '중간고사 예상문제.docx'\n",
    "\n",
    "# Word 파일 읽기\n",
    "def read_docx(file_path):\n",
    "    doc = Document(file_path)\n",
    "    text = \"\"\n",
    "    for paragraph in doc.paragraphs:\n",
    "        text += paragraph.text + \" \"\n",
    "    return text\n",
    "\n",
    "# 텍스트를 MP3로 변환하여 저장\n",
    "def text_to_mp3(text, output_mp3_file):\n",
    "    tts = gTTS(text, lang='ko')  # 'ko'는 한국어 언어 코드입니다. 필요에 따라 변경하세요.\n",
    "    tts.save(output_mp3_file)\n",
    "\n",
    "# MP3 파일 경로\n",
    "output_mp3_file = 'output_final.mp3'\n",
    "\n",
    "# Word 파일 읽기\n",
    "text = read_docx(input_docx_file)\n",
    "\n",
    "# 텍스트를 MP3로 변환하여 저장\n",
    "text_to_mp3(text, output_mp3_file)\n",
    "\n",
    "print(f'{input_docx_file} 파일을 읽어 {output_mp3_file} 파일로 저장했습니다.')\n"
   ]
  },
  {
   "cell_type": "code",
   "execution_count": null,
   "id": "8768cabc",
   "metadata": {},
   "outputs": [],
   "source": []
  }
 ],
 "metadata": {
  "kernelspec": {
   "display_name": "Python 3 (ipykernel)",
   "language": "python",
   "name": "python3"
  },
  "language_info": {
   "codemirror_mode": {
    "name": "ipython",
    "version": 3
   },
   "file_extension": ".py",
   "mimetype": "text/x-python",
   "name": "python",
   "nbconvert_exporter": "python",
   "pygments_lexer": "ipython3",
   "version": "3.9.17"
  }
 },
 "nbformat": 4,
 "nbformat_minor": 5
}
