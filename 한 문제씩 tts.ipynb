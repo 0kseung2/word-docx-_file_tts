{
 "cells": [
  {
   "cell_type": "code",
   "execution_count": 2,
   "id": "77bc5a3b",
   "metadata": {},
   "outputs": [
    {
     "name": "stdout",
     "output_type": "stream",
     "text": [
      "22.docx 파일을 읽어 22.mp3 파일로 저장했습니다.\n"
     ]
    }
   ],
   "source": [
    "from docx import Document\n",
    "from gtts import gTTS\n",
    "import os\n",
    "\n",
    "# 텍스트를 MP3로 변환하여 저장\n",
    "\n",
    "\n",
    "for i in range(1, 23):\n",
    "    output_mp3_file = f'{i}.mp3'\n",
    "    input_docx_file = f'{i}.docx'\n",
    "    text = read_docx(input_docx_file)\n",
    "    text_to_mp3(text, output_mp3_file)\n",
    "\n",
    "print(f'{input_docx_file} 파일을 읽어 {output_mp3_file} 파일로 저장했습니다.')\n"
   ]
  },
  {
   "cell_type": "code",
   "execution_count": null,
   "id": "55757d58",
   "metadata": {},
   "outputs": [],
   "source": []
  }
 ],
 "metadata": {
  "kernelspec": {
   "display_name": "Python 3 (ipykernel)",
   "language": "python",
   "name": "python3"
  },
  "language_info": {
   "codemirror_mode": {
    "name": "ipython",
    "version": 3
   },
   "file_extension": ".py",
   "mimetype": "text/x-python",
   "name": "python",
   "nbconvert_exporter": "python",
   "pygments_lexer": "ipython3",
   "version": "3.9.17"
  }
 },
 "nbformat": 4,
 "nbformat_minor": 5
}
